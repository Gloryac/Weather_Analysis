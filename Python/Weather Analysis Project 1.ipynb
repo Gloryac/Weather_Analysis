{
 "cells": [
  {
   "cell_type": "code",
   "execution_count": 1,
   "id": "f33b2d26-7aec-41e5-845b-07aad5b68854",
   "metadata": {},
   "outputs": [
    {
     "name": "stdout",
     "output_type": "stream",
     "text": [
      "Requirement already satisfied: Kaggle in c:\\users\\administrator\\anaconda3\\lib\\site-packages (1.6.17)\n",
      "Requirement already satisfied: six>=1.10 in c:\\users\\administrator\\anaconda3\\lib\\site-packages (from Kaggle) (1.16.0)\n",
      "Requirement already satisfied: certifi>=2023.7.22 in c:\\users\\administrator\\anaconda3\\lib\\site-packages (from Kaggle) (2024.7.4)\n",
      "Requirement already satisfied: python-dateutil in c:\\users\\administrator\\anaconda3\\lib\\site-packages (from Kaggle) (2.9.0.post0)\n",
      "Requirement already satisfied: requests in c:\\users\\administrator\\anaconda3\\lib\\site-packages (from Kaggle) (2.32.2)\n",
      "Requirement already satisfied: tqdm in c:\\users\\administrator\\anaconda3\\lib\\site-packages (from Kaggle) (4.66.4)\n",
      "Requirement already satisfied: python-slugify in c:\\users\\administrator\\anaconda3\\lib\\site-packages (from Kaggle) (5.0.2)\n",
      "Requirement already satisfied: urllib3 in c:\\users\\administrator\\anaconda3\\lib\\site-packages (from Kaggle) (2.2.2)\n",
      "Requirement already satisfied: bleach in c:\\users\\administrator\\anaconda3\\lib\\site-packages (from Kaggle) (4.1.0)\n",
      "Requirement already satisfied: packaging in c:\\users\\administrator\\anaconda3\\lib\\site-packages (from bleach->Kaggle) (23.2)\n",
      "Requirement already satisfied: webencodings in c:\\users\\administrator\\anaconda3\\lib\\site-packages (from bleach->Kaggle) (0.5.1)\n",
      "Requirement already satisfied: text-unidecode>=1.3 in c:\\users\\administrator\\anaconda3\\lib\\site-packages (from python-slugify->Kaggle) (1.3)\n",
      "Requirement already satisfied: charset-normalizer<4,>=2 in c:\\users\\administrator\\anaconda3\\lib\\site-packages (from requests->Kaggle) (2.0.4)\n",
      "Requirement already satisfied: idna<4,>=2.5 in c:\\users\\administrator\\anaconda3\\lib\\site-packages (from requests->Kaggle) (3.7)\n",
      "Requirement already satisfied: colorama in c:\\users\\administrator\\anaconda3\\lib\\site-packages (from tqdm->Kaggle) (0.4.6)\n"
     ]
    }
   ],
   "source": [
    "!pip install Kaggle\n"
   ]
  },
  {
   "cell_type": "code",
   "execution_count": 3,
   "id": "a158c367-b18b-4f12-aa3e-67e862b0ea27",
   "metadata": {},
   "outputs": [
    {
     "name": "stderr",
     "output_type": "stream",
     "text": [
      "A subdirectory or file C:\\Users\\Administrator\\.kaggle already exists.\n"
     ]
    }
   ],
   "source": [
    "!mkdir %USERPROFILE%\\.kaggle"
   ]
  },
  {
   "cell_type": "code",
   "execution_count": 5,
   "id": "dd767394-3a8d-4595-b07f-10bb3274cb51",
   "metadata": {},
   "outputs": [
    {
     "name": "stdout",
     "output_type": "stream",
     "text": [
      "The system cannot find the file specified.\n"
     ]
    }
   ],
   "source": [
    "!copy kaggle.json %USERPROFILE%\\.kaggle\\"
   ]
  },
  {
   "cell_type": "code",
   "execution_count": 7,
   "id": "0e7eb41a-1261-4d80-9a44-0f2662263f46",
   "metadata": {},
   "outputs": [
    {
     "name": "stdout",
     "output_type": "stream",
     "text": [
      "Successfully processed 0 files; Failed processing 1 files\n"
     ]
    },
    {
     "name": "stderr",
     "output_type": "stream",
     "text": [
      "C:\\Users\\Administrator\\.kaggle\\kaggle.json: The system cannot find the file specified.\n"
     ]
    }
   ],
   "source": [
    "!icacls %USERPROFILE%\\.kaggle\\kaggle.json /inheritance:r /grant:r \"%USERNAME%:F\""
   ]
  },
  {
   "cell_type": "code",
   "execution_count": 9,
   "id": "17211db7-e600-4966-a108-238920c02147",
   "metadata": {},
   "outputs": [
    {
     "name": "stdout",
     "output_type": "stream",
     "text": [
      "Dataset URL: https://www.kaggle.com/datasets/ayushmi77al/weather-data-set-for-beginners\n",
      "License(s): unknown\n",
      "Downloading weather-data-set-for-beginners.zip to C:\\Users\\Administrator\\OneDrive\\Documents\\Projects\\Data Analysis Bootcamp by Lux\n",
      "\n"
     ]
    },
    {
     "name": "stderr",
     "output_type": "stream",
     "text": [
      "\n",
      "  0%|          | 0.00/101k [00:00<?, ?B/s]\n",
      "100%|##########| 101k/101k [00:00<00:00, 162kB/s]\n",
      "100%|##########| 101k/101k [00:00<00:00, 161kB/s]\n"
     ]
    }
   ],
   "source": [
    "!kaggle datasets download ayushmi77al/weather-data-set-for-beginners"
   ]
  },
  {
   "cell_type": "code",
   "execution_count": 11,
   "id": "1f7bd378-9e01-4da8-9b22-13035d89cae2",
   "metadata": {},
   "outputs": [],
   "source": [
    "!powershell -Command \"Expand-Archive -Path weather-data-set-for-beginners.zip -DestinationPath .\""
   ]
  },
  {
   "cell_type": "code",
   "execution_count": 13,
   "id": "c9afc2d8-01b1-47ee-8cea-bfc68c3c32fa",
   "metadata": {},
   "outputs": [],
   "source": [
    "import pandas as pd"
   ]
  },
  {
   "cell_type": "code",
   "execution_count": 15,
   "id": "5230491e-73ef-4c03-87dc-2c9e5f6efece",
   "metadata": {},
   "outputs": [],
   "source": [
    "import numpy as np"
   ]
  },
  {
   "cell_type": "code",
   "execution_count": 17,
   "id": "2ec5185e-17e0-425e-a1de-4784c8927c0c",
   "metadata": {},
   "outputs": [
    {
     "ename": "FileNotFoundError",
     "evalue": "[Errno 2] No such file or directory: 'Weather Data.csv'",
     "output_type": "error",
     "traceback": [
      "\u001b[1;31m---------------------------------------------------------------------------\u001b[0m",
      "\u001b[1;31mFileNotFoundError\u001b[0m                         Traceback (most recent call last)",
      "Cell \u001b[1;32mIn[17], line 1\u001b[0m\n\u001b[1;32m----> 1\u001b[0m df \u001b[38;5;241m=\u001b[39m pd\u001b[38;5;241m.\u001b[39mread_csv(\u001b[38;5;124m\"\u001b[39m\u001b[38;5;124mWeather Data.csv\u001b[39m\u001b[38;5;124m\"\u001b[39m)\n",
      "File \u001b[1;32m~\\anaconda3\\Lib\\site-packages\\pandas\\io\\parsers\\readers.py:1026\u001b[0m, in \u001b[0;36mread_csv\u001b[1;34m(filepath_or_buffer, sep, delimiter, header, names, index_col, usecols, dtype, engine, converters, true_values, false_values, skipinitialspace, skiprows, skipfooter, nrows, na_values, keep_default_na, na_filter, verbose, skip_blank_lines, parse_dates, infer_datetime_format, keep_date_col, date_parser, date_format, dayfirst, cache_dates, iterator, chunksize, compression, thousands, decimal, lineterminator, quotechar, quoting, doublequote, escapechar, comment, encoding, encoding_errors, dialect, on_bad_lines, delim_whitespace, low_memory, memory_map, float_precision, storage_options, dtype_backend)\u001b[0m\n\u001b[0;32m   1013\u001b[0m kwds_defaults \u001b[38;5;241m=\u001b[39m _refine_defaults_read(\n\u001b[0;32m   1014\u001b[0m     dialect,\n\u001b[0;32m   1015\u001b[0m     delimiter,\n\u001b[1;32m   (...)\u001b[0m\n\u001b[0;32m   1022\u001b[0m     dtype_backend\u001b[38;5;241m=\u001b[39mdtype_backend,\n\u001b[0;32m   1023\u001b[0m )\n\u001b[0;32m   1024\u001b[0m kwds\u001b[38;5;241m.\u001b[39mupdate(kwds_defaults)\n\u001b[1;32m-> 1026\u001b[0m \u001b[38;5;28;01mreturn\u001b[39;00m _read(filepath_or_buffer, kwds)\n",
      "File \u001b[1;32m~\\anaconda3\\Lib\\site-packages\\pandas\\io\\parsers\\readers.py:620\u001b[0m, in \u001b[0;36m_read\u001b[1;34m(filepath_or_buffer, kwds)\u001b[0m\n\u001b[0;32m    617\u001b[0m _validate_names(kwds\u001b[38;5;241m.\u001b[39mget(\u001b[38;5;124m\"\u001b[39m\u001b[38;5;124mnames\u001b[39m\u001b[38;5;124m\"\u001b[39m, \u001b[38;5;28;01mNone\u001b[39;00m))\n\u001b[0;32m    619\u001b[0m \u001b[38;5;66;03m# Create the parser.\u001b[39;00m\n\u001b[1;32m--> 620\u001b[0m parser \u001b[38;5;241m=\u001b[39m TextFileReader(filepath_or_buffer, \u001b[38;5;241m*\u001b[39m\u001b[38;5;241m*\u001b[39mkwds)\n\u001b[0;32m    622\u001b[0m \u001b[38;5;28;01mif\u001b[39;00m chunksize \u001b[38;5;129;01mor\u001b[39;00m iterator:\n\u001b[0;32m    623\u001b[0m     \u001b[38;5;28;01mreturn\u001b[39;00m parser\n",
      "File \u001b[1;32m~\\anaconda3\\Lib\\site-packages\\pandas\\io\\parsers\\readers.py:1620\u001b[0m, in \u001b[0;36mTextFileReader.__init__\u001b[1;34m(self, f, engine, **kwds)\u001b[0m\n\u001b[0;32m   1617\u001b[0m     \u001b[38;5;28mself\u001b[39m\u001b[38;5;241m.\u001b[39moptions[\u001b[38;5;124m\"\u001b[39m\u001b[38;5;124mhas_index_names\u001b[39m\u001b[38;5;124m\"\u001b[39m] \u001b[38;5;241m=\u001b[39m kwds[\u001b[38;5;124m\"\u001b[39m\u001b[38;5;124mhas_index_names\u001b[39m\u001b[38;5;124m\"\u001b[39m]\n\u001b[0;32m   1619\u001b[0m \u001b[38;5;28mself\u001b[39m\u001b[38;5;241m.\u001b[39mhandles: IOHandles \u001b[38;5;241m|\u001b[39m \u001b[38;5;28;01mNone\u001b[39;00m \u001b[38;5;241m=\u001b[39m \u001b[38;5;28;01mNone\u001b[39;00m\n\u001b[1;32m-> 1620\u001b[0m \u001b[38;5;28mself\u001b[39m\u001b[38;5;241m.\u001b[39m_engine \u001b[38;5;241m=\u001b[39m \u001b[38;5;28mself\u001b[39m\u001b[38;5;241m.\u001b[39m_make_engine(f, \u001b[38;5;28mself\u001b[39m\u001b[38;5;241m.\u001b[39mengine)\n",
      "File \u001b[1;32m~\\anaconda3\\Lib\\site-packages\\pandas\\io\\parsers\\readers.py:1880\u001b[0m, in \u001b[0;36mTextFileReader._make_engine\u001b[1;34m(self, f, engine)\u001b[0m\n\u001b[0;32m   1878\u001b[0m     \u001b[38;5;28;01mif\u001b[39;00m \u001b[38;5;124m\"\u001b[39m\u001b[38;5;124mb\u001b[39m\u001b[38;5;124m\"\u001b[39m \u001b[38;5;129;01mnot\u001b[39;00m \u001b[38;5;129;01min\u001b[39;00m mode:\n\u001b[0;32m   1879\u001b[0m         mode \u001b[38;5;241m+\u001b[39m\u001b[38;5;241m=\u001b[39m \u001b[38;5;124m\"\u001b[39m\u001b[38;5;124mb\u001b[39m\u001b[38;5;124m\"\u001b[39m\n\u001b[1;32m-> 1880\u001b[0m \u001b[38;5;28mself\u001b[39m\u001b[38;5;241m.\u001b[39mhandles \u001b[38;5;241m=\u001b[39m get_handle(\n\u001b[0;32m   1881\u001b[0m     f,\n\u001b[0;32m   1882\u001b[0m     mode,\n\u001b[0;32m   1883\u001b[0m     encoding\u001b[38;5;241m=\u001b[39m\u001b[38;5;28mself\u001b[39m\u001b[38;5;241m.\u001b[39moptions\u001b[38;5;241m.\u001b[39mget(\u001b[38;5;124m\"\u001b[39m\u001b[38;5;124mencoding\u001b[39m\u001b[38;5;124m\"\u001b[39m, \u001b[38;5;28;01mNone\u001b[39;00m),\n\u001b[0;32m   1884\u001b[0m     compression\u001b[38;5;241m=\u001b[39m\u001b[38;5;28mself\u001b[39m\u001b[38;5;241m.\u001b[39moptions\u001b[38;5;241m.\u001b[39mget(\u001b[38;5;124m\"\u001b[39m\u001b[38;5;124mcompression\u001b[39m\u001b[38;5;124m\"\u001b[39m, \u001b[38;5;28;01mNone\u001b[39;00m),\n\u001b[0;32m   1885\u001b[0m     memory_map\u001b[38;5;241m=\u001b[39m\u001b[38;5;28mself\u001b[39m\u001b[38;5;241m.\u001b[39moptions\u001b[38;5;241m.\u001b[39mget(\u001b[38;5;124m\"\u001b[39m\u001b[38;5;124mmemory_map\u001b[39m\u001b[38;5;124m\"\u001b[39m, \u001b[38;5;28;01mFalse\u001b[39;00m),\n\u001b[0;32m   1886\u001b[0m     is_text\u001b[38;5;241m=\u001b[39mis_text,\n\u001b[0;32m   1887\u001b[0m     errors\u001b[38;5;241m=\u001b[39m\u001b[38;5;28mself\u001b[39m\u001b[38;5;241m.\u001b[39moptions\u001b[38;5;241m.\u001b[39mget(\u001b[38;5;124m\"\u001b[39m\u001b[38;5;124mencoding_errors\u001b[39m\u001b[38;5;124m\"\u001b[39m, \u001b[38;5;124m\"\u001b[39m\u001b[38;5;124mstrict\u001b[39m\u001b[38;5;124m\"\u001b[39m),\n\u001b[0;32m   1888\u001b[0m     storage_options\u001b[38;5;241m=\u001b[39m\u001b[38;5;28mself\u001b[39m\u001b[38;5;241m.\u001b[39moptions\u001b[38;5;241m.\u001b[39mget(\u001b[38;5;124m\"\u001b[39m\u001b[38;5;124mstorage_options\u001b[39m\u001b[38;5;124m\"\u001b[39m, \u001b[38;5;28;01mNone\u001b[39;00m),\n\u001b[0;32m   1889\u001b[0m )\n\u001b[0;32m   1890\u001b[0m \u001b[38;5;28;01massert\u001b[39;00m \u001b[38;5;28mself\u001b[39m\u001b[38;5;241m.\u001b[39mhandles \u001b[38;5;129;01mis\u001b[39;00m \u001b[38;5;129;01mnot\u001b[39;00m \u001b[38;5;28;01mNone\u001b[39;00m\n\u001b[0;32m   1891\u001b[0m f \u001b[38;5;241m=\u001b[39m \u001b[38;5;28mself\u001b[39m\u001b[38;5;241m.\u001b[39mhandles\u001b[38;5;241m.\u001b[39mhandle\n",
      "File \u001b[1;32m~\\anaconda3\\Lib\\site-packages\\pandas\\io\\common.py:873\u001b[0m, in \u001b[0;36mget_handle\u001b[1;34m(path_or_buf, mode, encoding, compression, memory_map, is_text, errors, storage_options)\u001b[0m\n\u001b[0;32m    868\u001b[0m \u001b[38;5;28;01melif\u001b[39;00m \u001b[38;5;28misinstance\u001b[39m(handle, \u001b[38;5;28mstr\u001b[39m):\n\u001b[0;32m    869\u001b[0m     \u001b[38;5;66;03m# Check whether the filename is to be opened in binary mode.\u001b[39;00m\n\u001b[0;32m    870\u001b[0m     \u001b[38;5;66;03m# Binary mode does not support 'encoding' and 'newline'.\u001b[39;00m\n\u001b[0;32m    871\u001b[0m     \u001b[38;5;28;01mif\u001b[39;00m ioargs\u001b[38;5;241m.\u001b[39mencoding \u001b[38;5;129;01mand\u001b[39;00m \u001b[38;5;124m\"\u001b[39m\u001b[38;5;124mb\u001b[39m\u001b[38;5;124m\"\u001b[39m \u001b[38;5;129;01mnot\u001b[39;00m \u001b[38;5;129;01min\u001b[39;00m ioargs\u001b[38;5;241m.\u001b[39mmode:\n\u001b[0;32m    872\u001b[0m         \u001b[38;5;66;03m# Encoding\u001b[39;00m\n\u001b[1;32m--> 873\u001b[0m         handle \u001b[38;5;241m=\u001b[39m \u001b[38;5;28mopen\u001b[39m(\n\u001b[0;32m    874\u001b[0m             handle,\n\u001b[0;32m    875\u001b[0m             ioargs\u001b[38;5;241m.\u001b[39mmode,\n\u001b[0;32m    876\u001b[0m             encoding\u001b[38;5;241m=\u001b[39mioargs\u001b[38;5;241m.\u001b[39mencoding,\n\u001b[0;32m    877\u001b[0m             errors\u001b[38;5;241m=\u001b[39merrors,\n\u001b[0;32m    878\u001b[0m             newline\u001b[38;5;241m=\u001b[39m\u001b[38;5;124m\"\u001b[39m\u001b[38;5;124m\"\u001b[39m,\n\u001b[0;32m    879\u001b[0m         )\n\u001b[0;32m    880\u001b[0m     \u001b[38;5;28;01melse\u001b[39;00m:\n\u001b[0;32m    881\u001b[0m         \u001b[38;5;66;03m# Binary mode\u001b[39;00m\n\u001b[0;32m    882\u001b[0m         handle \u001b[38;5;241m=\u001b[39m \u001b[38;5;28mopen\u001b[39m(handle, ioargs\u001b[38;5;241m.\u001b[39mmode)\n",
      "\u001b[1;31mFileNotFoundError\u001b[0m: [Errno 2] No such file or directory: 'Weather Data.csv'"
     ]
    }
   ],
   "source": [
    "df = pd.read_csv(\"Weather Data.csv\")"
   ]
  },
  {
   "cell_type": "code",
   "execution_count": 19,
   "id": "d837e221-bc4c-49e5-bcd8-3ab03d797548",
   "metadata": {},
   "outputs": [
    {
     "name": "stdout",
     "output_type": "stream",
     "text": [
      "Files in the directory: ['.ipynb_checkpoints', '1. Weather Data.csv', 'Weather Analysis Project 1.ipynb', 'weather-data-set-for-beginners.zip']\n"
     ]
    }
   ],
   "source": [
    "import os\n",
    "\n",
    "\n",
    "files = os.listdir()\n",
    "print(\"Files in the directory:\", files)"
   ]
  },
  {
   "cell_type": "code",
   "execution_count": 21,
   "id": "b742b76e-7f78-40af-a9e7-acbc74da0b0d",
   "metadata": {},
   "outputs": [],
   "source": [
    "df = pd.read_csv(\"1. Weather Data.csv\")"
   ]
  },
  {
   "cell_type": "code",
   "execution_count": 23,
   "id": "e08d6b85-6960-4292-8398-ee869b1e2506",
   "metadata": {},
   "outputs": [
    {
     "name": "stdout",
     "output_type": "stream",
     "text": [
      "Records where weather is clear:\n",
      "              Date/Time  Temp_C  Dew Point Temp_C  Rel Hum_%  Wind Speed_km/h  \\\n",
      "67      1/3/2012 19:00   -16.9             -24.8         50               24   \n",
      "114     1/5/2012 18:00    -7.1             -14.4         56               11   \n",
      "115     1/5/2012 19:00    -9.2             -15.4         61                7   \n",
      "116     1/5/2012 20:00    -9.8             -15.7         62                9   \n",
      "117     1/5/2012 21:00    -9.0             -14.8         63               13   \n",
      "...                ...     ...               ...        ...              ...   \n",
      "8646   12/26/2012 6:00   -13.4             -14.8         89                4   \n",
      "8698  12/28/2012 10:00    -6.1              -8.6         82               19   \n",
      "8713   12/29/2012 1:00   -11.9             -13.6         87               11   \n",
      "8714   12/29/2012 2:00   -11.8             -13.1         90               13   \n",
      "8756  12/30/2012 20:00   -13.8             -16.5         80               24   \n",
      "\n",
      "      Visibility_km  Press_kPa Weather  \n",
      "67             25.0     101.74   Clear  \n",
      "114            25.0     100.71   Clear  \n",
      "115            25.0     100.80   Clear  \n",
      "116            25.0     100.83   Clear  \n",
      "117            25.0     100.83   Clear  \n",
      "...             ...        ...     ...  \n",
      "8646           25.0     102.47   Clear  \n",
      "8698           24.1     101.27   Clear  \n",
      "8713           25.0     101.31   Clear  \n",
      "8714           25.0     101.33   Clear  \n",
      "8756           25.0     101.52   Clear  \n",
      "\n",
      "[1326 rows x 8 columns]\n"
     ]
    }
   ],
   "source": [
    "# Find all records where the weather was exactly clear\n",
    "clear_weather_records = df[df['Weather'] == 'Clear']\n",
    "print(\"Records where weather is clear:\\n\", clear_weather_records)"
   ]
  },
  {
   "cell_type": "code",
   "execution_count": 25,
   "id": "271a1b20-add9-48bb-8dc5-272d44593347",
   "metadata": {},
   "outputs": [
    {
     "name": "stdout",
     "output_type": "stream",
     "text": [
      "Number of times wind speed was exactly 4 km/hr: 474\n"
     ]
    }
   ],
   "source": [
    "# Find the number of times the wind speed was exactly 4 km/hr. \n",
    "wind_speed_4_count = df[df['Wind Speed_km/h'] == 4].shape[0]\n",
    "print(\"Number of times wind speed was exactly 4 km/hr:\", wind_speed_4_count)"
   ]
  },
  {
   "cell_type": "code",
   "execution_count": 27,
   "id": "a9544249-c0b8-4478-beca-d2967bd9635e",
   "metadata": {},
   "outputs": [
    {
     "name": "stdout",
     "output_type": "stream",
     "text": [
      "Are there any NULL values present in the dataset? False\n"
     ]
    }
   ],
   "source": [
    "#Check if there are any NULL values present in the dataset. \n",
    "null_values_present = df.isnull().values.any()\n",
    "print(\"Are there any NULL values present in the dataset?\", null_values_present)"
   ]
  },
  {
   "cell_type": "code",
   "execution_count": 29,
   "id": "7fee81ed-4c74-4f6e-b23f-3e295795158f",
   "metadata": {},
   "outputs": [
    {
     "name": "stdout",
     "output_type": "stream",
     "text": [
      "New column name:\n",
      " Index(['Date/Time', 'Temp_C', 'Dew Point Temp_C', 'Rel Hum_%',\n",
      "       'Wind Speed_km/h', 'Visibility_km', 'Press_kPa', 'Weather_Condition'],\n",
      "      dtype='object')\n"
     ]
    }
   ],
   "source": [
    "# Rename the column \"Weather\" to \"Weather_Condition\"\n",
    "df.rename(columns={'Weather': 'Weather_Condition'}, inplace=True)\n",
    "print(\"New column name:\\n\", df.columns)"
   ]
  },
  {
   "cell_type": "code",
   "execution_count": 31,
   "id": "7e6783aa-1762-4f4d-891c-ad9e6701f2d4",
   "metadata": {},
   "outputs": [
    {
     "name": "stdout",
     "output_type": "stream",
     "text": [
      "Mean visibility of the dataset: 27.664446721311478\n"
     ]
    }
   ],
   "source": [
    "# What is the mean visibility of the dataset?\n",
    "mean_visibility = df['Visibility_km'].mean()\n",
    "print(\"Mean visibility of the dataset:\", mean_visibility)"
   ]
  },
  {
   "cell_type": "code",
   "execution_count": 33,
   "id": "9613dee7-1975-41f0-88c8-45f700bcc088",
   "metadata": {},
   "outputs": [
    {
     "name": "stdout",
     "output_type": "stream",
     "text": [
      "Number of records where wind speed > 24 km/hr and visibility = 25 km: 308\n"
     ]
    }
   ],
   "source": [
    "# Find the number of records where the wind speed is greater than 24 km/hr and visibility is equal to 25 km\n",
    "wind_speed_visibility = df[(df['Wind Speed_km/h'] > 24) & (df['Visibility_km'] == 25)].shape[0]\n",
    "print(\"Number of records where wind speed > 24 km/hr and visibility = 25 km:\", wind_speed_visibility)\n"
   ]
  },
  {
   "cell_type": "code",
   "execution_count": 35,
   "id": "f96a4564-d960-4433-8eca-784f5028c822",
   "metadata": {},
   "outputs": [
    {
     "name": "stdout",
     "output_type": "stream",
     "text": [
      "Mean values of each column for each weather condition:\n",
      "                                             Temp_C  Dew Point Temp_C  \\\n",
      "Weather_Condition                                                      \n",
      "Clear                                     6.825716          0.089367   \n",
      "Cloudy                                    7.970544          2.375810   \n",
      "Drizzle                                   7.353659          5.504878   \n",
      "Drizzle,Fog                               8.067500          7.033750   \n",
      "Drizzle,Ice Pellets,Fog                   0.400000         -0.700000   \n",
      "Drizzle,Snow                              1.050000          0.150000   \n",
      "Drizzle,Snow,Fog                          0.693333          0.120000   \n",
      "Fog                                       4.303333          3.159333   \n",
      "Freezing Drizzle                         -5.657143         -8.000000   \n",
      "Freezing Drizzle,Fog                     -2.533333         -4.183333   \n",
      "Freezing Drizzle,Haze                    -5.433333         -8.000000   \n",
      "Freezing Drizzle,Snow                    -5.109091         -7.072727   \n",
      "Freezing Fog                             -7.575000         -9.250000   \n",
      "Freezing Rain                            -3.885714         -6.078571   \n",
      "Freezing Rain,Fog                        -2.225000         -3.750000   \n",
      "Freezing Rain,Haze                       -4.900000         -7.450000   \n",
      "Freezing Rain,Ice Pellets,Fog            -2.600000         -3.700000   \n",
      "Freezing Rain,Snow Grains                -5.000000         -7.300000   \n",
      "Haze                                     -0.200000         -2.975000   \n",
      "Mainly Clear                             12.558927          4.581671   \n",
      "Moderate Rain,Fog                         1.700000          0.800000   \n",
      "Moderate Snow                            -5.525000         -7.250000   \n",
      "Moderate Snow,Blowing Snow               -5.450000         -6.500000   \n",
      "Mostly Cloudy                            10.574287          3.131174   \n",
      "Rain                                      9.786275          7.042810   \n",
      "Rain Showers                             13.722340          9.187766   \n",
      "Rain Showers,Fog                         12.800000         12.100000   \n",
      "Rain Showers,Snow Showers                 2.150000         -1.500000   \n",
      "Rain,Fog                                  8.273276          7.219828   \n",
      "Rain,Haze                                 4.633333          2.066667   \n",
      "Rain,Ice Pellets                          0.600000         -0.600000   \n",
      "Rain,Snow                                 1.055556         -0.566667   \n",
      "Rain,Snow Grains                          1.900000         -2.100000   \n",
      "Rain,Snow,Fog                             0.800000          0.300000   \n",
      "Rain,Snow,Ice Pellets                     1.100000         -0.175000   \n",
      "Snow                                     -4.524103         -7.623333   \n",
      "Snow Pellets                              0.700000         -6.400000   \n",
      "Snow Showers                             -3.506667         -7.866667   \n",
      "Snow Showers,Fog                        -10.675000        -11.900000   \n",
      "Snow,Blowing Snow                        -5.410526         -7.621053   \n",
      "Snow,Fog                                 -5.075676         -6.364865   \n",
      "Snow,Haze                                -4.020000         -6.860000   \n",
      "Snow,Ice Pellets                         -1.883333         -3.666667   \n",
      "Thunderstorms                            24.150000         19.750000   \n",
      "Thunderstorms,Heavy Rain Showers         10.900000          9.000000   \n",
      "Thunderstorms,Moderate Rain Showers,Fog  19.600000         18.500000   \n",
      "Thunderstorms,Rain                       20.433333         18.533333   \n",
      "Thunderstorms,Rain Showers               20.037500         17.618750   \n",
      "Thunderstorms,Rain Showers,Fog           21.600000         18.700000   \n",
      "Thunderstorms,Rain,Fog                   20.600000         18.600000   \n",
      "\n",
      "                                         Rel Hum_%  Wind Speed_km/h  \\\n",
      "Weather_Condition                                                     \n",
      "Clear                                    64.497738        10.557315   \n",
      "Cloudy                                   69.592593        16.127315   \n",
      "Drizzle                                  88.243902        16.097561   \n",
      "Drizzle,Fog                              93.275000        11.862500   \n",
      "Drizzle,Ice Pellets,Fog                  92.000000        20.000000   \n",
      "Drizzle,Snow                             93.500000        14.000000   \n",
      "Drizzle,Snow,Fog                         95.866667        15.533333   \n",
      "Fog                                      92.286667         7.946667   \n",
      "Freezing Drizzle                         83.571429        16.571429   \n",
      "Freezing Drizzle,Fog                     88.500000        17.000000   \n",
      "Freezing Drizzle,Haze                    82.000000        10.333333   \n",
      "Freezing Drizzle,Snow                    86.090909        16.272727   \n",
      "Freezing Fog                             87.750000         4.750000   \n",
      "Freezing Rain                            84.642857        19.214286   \n",
      "Freezing Rain,Fog                        89.500000        15.500000   \n",
      "Freezing Rain,Haze                       82.500000         7.500000   \n",
      "Freezing Rain,Ice Pellets,Fog            92.000000        28.000000   \n",
      "Freezing Rain,Snow Grains                84.000000        32.000000   \n",
      "Haze                                     81.625000        10.437500   \n",
      "Mainly Clear                             60.667142        14.144824   \n",
      "Moderate Rain,Fog                        94.000000        17.000000   \n",
      "Moderate Snow                            87.750000        33.750000   \n",
      "Moderate Snow,Blowing Snow               92.500000        40.000000   \n",
      "Mostly Cloudy                            62.102465        15.813920   \n",
      "Rain                                     83.624183        19.254902   \n",
      "Rain Showers                             75.159574        17.132979   \n",
      "Rain Showers,Fog                         96.000000        13.000000   \n",
      "Rain Showers,Snow Showers                76.500000        22.500000   \n",
      "Rain,Fog                                 93.189655        14.793103   \n",
      "Rain,Haze                                83.333333        11.666667   \n",
      "Rain,Ice Pellets                         92.000000        24.000000   \n",
      "Rain,Snow                                89.000000        28.388889   \n",
      "Rain,Snow Grains                         75.000000        26.000000   \n",
      "Rain,Snow,Fog                            96.000000         9.000000   \n",
      "Rain,Snow,Ice Pellets                    91.500000        23.250000   \n",
      "Snow                                     79.307692        20.038462   \n",
      "Snow Pellets                             59.000000        35.000000   \n",
      "Snow Showers                             72.350000        19.233333   \n",
      "Snow Showers,Fog                         90.750000        13.750000   \n",
      "Snow,Blowing Snow                        84.473684        34.842105   \n",
      "Snow,Fog                                 90.675676        17.324324   \n",
      "Snow,Haze                                80.600000         5.000000   \n",
      "Snow,Ice Pellets                         87.666667        23.833333   \n",
      "Thunderstorms                            77.000000         7.500000   \n",
      "Thunderstorms,Heavy Rain Showers         88.000000         9.000000   \n",
      "Thunderstorms,Moderate Rain Showers,Fog  93.000000        15.000000   \n",
      "Thunderstorms,Rain                       89.000000        15.666667   \n",
      "Thunderstorms,Rain Showers               86.375000        18.312500   \n",
      "Thunderstorms,Rain Showers,Fog           84.000000        19.666667   \n",
      "Thunderstorms,Rain,Fog                   88.000000        19.000000   \n",
      "\n",
      "                                         Visibility_km   Press_kPa  \n",
      "Weather_Condition                                                   \n",
      "Clear                                        30.153243  101.587443  \n",
      "Cloudy                                       26.625752  100.911441  \n",
      "Drizzle                                      17.931707  100.435366  \n",
      "Drizzle,Fog                                   5.257500  100.786625  \n",
      "Drizzle,Ice Pellets,Fog                       4.000000  100.790000  \n",
      "Drizzle,Snow                                 10.500000  100.890000  \n",
      "Drizzle,Snow,Fog                              5.513333   99.281333  \n",
      "Fog                                           6.248000  101.184067  \n",
      "Freezing Drizzle                              9.200000  100.202857  \n",
      "Freezing Drizzle,Fog                          5.266667  100.441667  \n",
      "Freezing Drizzle,Haze                         2.666667  100.316667  \n",
      "Freezing Drizzle,Snow                         5.872727  100.520909  \n",
      "Freezing Fog                                  0.650000  102.320000  \n",
      "Freezing Rain                                 8.242857   99.647143  \n",
      "Freezing Rain,Fog                             7.550000   99.945000  \n",
      "Freezing Rain,Haze                            2.400000  100.375000  \n",
      "Freezing Rain,Ice Pellets,Fog                 8.000000  100.950000  \n",
      "Freezing Rain,Snow Grains                     4.800000   98.560000  \n",
      "Haze                                          7.831250  101.482500  \n",
      "Mainly Clear                                 34.264862  101.248832  \n",
      "Moderate Rain,Fog                             6.400000   99.980000  \n",
      "Moderate Snow                                 0.750000  100.275000  \n",
      "Moderate Snow,Blowing Snow                    0.600000  100.570000  \n",
      "Mostly Cloudy                                31.253842  101.025288  \n",
      "Rain                                         18.856536  100.233333  \n",
      "Rain Showers                                 22.816489  100.404043  \n",
      "Rain Showers,Fog                              6.400000   99.830000  \n",
      "Rain Showers,Snow Showers                    21.700000  101.100000  \n",
      "Rain,Fog                                      6.873276  100.500862  \n",
      "Rain,Haze                                     6.700000  100.540000  \n",
      "Rain,Ice Pellets                              9.700000  100.120000  \n",
      "Rain,Snow                                    11.672222   99.951111  \n",
      "Rain,Snow Grains                             25.000000  100.600000  \n",
      "Rain,Snow,Fog                                 6.400000  100.730000  \n",
      "Rain,Snow,Ice Pellets                         6.000000  100.105000  \n",
      "Snow                                         11.171795  100.536103  \n",
      "Snow Pellets                                  2.400000   99.700000  \n",
      "Snow Showers                                 20.158333  100.963500  \n",
      "Snow Showers,Fog                              7.025000  101.292500  \n",
      "Snow,Blowing Snow                             4.105263   99.704737  \n",
      "Snow,Fog                                      4.537838  100.688649  \n",
      "Snow,Haze                                     4.640000  100.782000  \n",
      "Snow,Ice Pellets                              7.416667  100.548333  \n",
      "Thunderstorms                                24.550000  100.230000  \n",
      "Thunderstorms,Heavy Rain Showers              2.400000  100.260000  \n",
      "Thunderstorms,Moderate Rain Showers,Fog       3.200000  100.010000  \n",
      "Thunderstorms,Rain                           19.833333  100.420000  \n",
      "Thunderstorms,Rain Showers                   15.893750  100.233750  \n",
      "Thunderstorms,Rain Showers,Fog                9.700000  100.063333  \n",
      "Thunderstorms,Rain,Fog                        4.800000  100.080000  \n"
     ]
    }
   ],
   "source": [
    "#What is the mean value of each column for each weather condition? \n",
    "# Find numerical columns\n",
    "numeric_columns = df.select_dtypes(include='number')\n",
    "\n",
    "# Calculate mean values by weather condition\n",
    "mean_values_by_weather_condition = numeric_columns.groupby(df['Weather_Condition']).mean()\n",
    "print(\"Mean values of each column for each weather condition:\\n\", mean_values_by_weather_condition)"
   ]
  },
  {
   "cell_type": "code",
   "execution_count": 37,
   "id": "eea3b310-e50f-4220-aa50-b04a19545b8b",
   "metadata": {},
   "outputs": [
    {
     "name": "stdout",
     "output_type": "stream",
     "text": [
      "Instances where weather is clear and relative humidity > 50 or visibility > 40:\n",
      "              Date/Time  Temp_C  Dew Point Temp_C  Rel Hum_%  Wind Speed_km/h  \\\n",
      "106     1/5/2012 10:00    -6.0             -10.0         73               17   \n",
      "107     1/5/2012 11:00    -5.6             -10.2         70               22   \n",
      "108     1/5/2012 12:00    -4.7              -9.6         69               20   \n",
      "109     1/5/2012 13:00    -4.4              -9.7         66               26   \n",
      "110     1/5/2012 14:00    -5.1             -10.7         65               22   \n",
      "...                ...     ...               ...        ...              ...   \n",
      "8749  12/30/2012 13:00   -12.4             -16.2         73               37   \n",
      "8750  12/30/2012 14:00   -11.8             -16.1         70               37   \n",
      "8751  12/30/2012 15:00   -11.3             -15.6         70               32   \n",
      "8752  12/30/2012 16:00   -11.4             -15.5         72               26   \n",
      "8756  12/30/2012 20:00   -13.8             -16.5         80               24   \n",
      "\n",
      "      Visibility_km  Press_kPa Weather_Condition  \n",
      "106            48.3     100.45      Mainly Clear  \n",
      "107            48.3     100.41      Mainly Clear  \n",
      "108            48.3     100.38      Mainly Clear  \n",
      "109            48.3     100.40      Mainly Clear  \n",
      "110            48.3     100.46      Mainly Clear  \n",
      "...             ...        ...               ...  \n",
      "8749           48.3     100.92     Mostly Cloudy  \n",
      "8750           48.3     100.96      Mainly Clear  \n",
      "8751           48.3     101.05      Mainly Clear  \n",
      "8752           48.3     101.15      Mainly Clear  \n",
      "8756           25.0     101.52             Clear  \n",
      "\n",
      "[2921 rows x 8 columns]\n"
     ]
    }
   ],
   "source": [
    "# Find all instances where the weather is clear and the relative humidity is greater than 50, or visibility is above 40.\n",
    "specific_conditions = df[(df['Weather_Condition'] == 'Clear') & (df['Rel Hum_%'] > 50) | (df['Visibility_km'] > 40)]\n",
    "print(\"Instances where weather is clear and relative humidity > 50 or visibility > 40:\\n\", specific_conditions)"
   ]
  },
  {
   "cell_type": "code",
   "execution_count": 39,
   "id": "c718a55f-2fc3-42a3-92ac-7dfc9b645ea7",
   "metadata": {},
   "outputs": [
    {
     "name": "stdout",
     "output_type": "stream",
     "text": [
      "Number of weather conditions that include snow: 583\n"
     ]
    }
   ],
   "source": [
    "# Find the number of weather conditions that include snow\n",
    "snow_conditions_count = df[df['Weather_Condition'].str.contains('Snow', na=False)].shape[0]\n",
    "print(\"Number of weather conditions that include snow:\", snow_conditions_count)"
   ]
  },
  {
   "cell_type": "code",
   "execution_count": null,
   "id": "21c8d2f6-dca0-4f06-a86d-48978bc6b9a6",
   "metadata": {},
   "outputs": [],
   "source": []
  }
 ],
 "metadata": {
  "kernelspec": {
   "display_name": "Python 3 (ipykernel)",
   "language": "python",
   "name": "python3"
  },
  "language_info": {
   "codemirror_mode": {
    "name": "ipython",
    "version": 3
   },
   "file_extension": ".py",
   "mimetype": "text/x-python",
   "name": "python",
   "nbconvert_exporter": "python",
   "pygments_lexer": "ipython3",
   "version": "3.12.4"
  }
 },
 "nbformat": 4,
 "nbformat_minor": 5
}
